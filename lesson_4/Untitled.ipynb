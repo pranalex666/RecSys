{
 "cells": [
  {
   "cell_type": "code",
   "execution_count": 1,
   "id": "cd7cf562-f6cb-48cc-830e-8a8652d754a7",
   "metadata": {},
   "outputs": [],
   "source": [
    "func = lambda x: x%2 == 0"
   ]
  },
  {
   "cell_type": "code",
   "execution_count": 2,
   "id": "4f36a1c4-86c7-4b1a-93ea-2aae8d8bbd22",
   "metadata": {},
   "outputs": [],
   "source": [
    "nums = filter(func, range(17))"
   ]
  },
  {
   "cell_type": "code",
   "execution_count": 5,
   "id": "626e99ff-4aad-47f3-a7b5-fb562e519820",
   "metadata": {},
   "outputs": [
    {
     "ename": "TypeError",
     "evalue": "object of type 'filter' has no len()",
     "output_type": "error",
     "traceback": [
      "\u001b[0;31m---------------------------------------------------------------------------\u001b[0m",
      "\u001b[0;31mTypeError\u001b[0m                                 Traceback (most recent call last)",
      "\u001b[0;32m/var/folders/54/4wt6jr9n7z9367r_l3w258w00000gn/T/ipykernel_35690/2714211307.py\u001b[0m in \u001b[0;36m<module>\u001b[0;34m\u001b[0m\n\u001b[0;32m----> 1\u001b[0;31m \u001b[0mlen\u001b[0m\u001b[0;34m(\u001b[0m\u001b[0mnums\u001b[0m\u001b[0;34m)\u001b[0m\u001b[0;34m\u001b[0m\u001b[0;34m\u001b[0m\u001b[0m\n\u001b[0m",
      "\u001b[0;31mTypeError\u001b[0m: object of type 'filter' has no len()"
     ]
    }
   ],
   "source": [
    "len(nums)"
   ]
  },
  {
   "cell_type": "code",
   "execution_count": null,
   "id": "f950f7e0-4b4d-47ef-8aa0-549a58366df2",
   "metadata": {},
   "outputs": [],
   "source": []
  }
 ],
 "metadata": {
  "kernelspec": {
   "display_name": "Python 3 (ipykernel)",
   "language": "python",
   "name": "python3"
  },
  "language_info": {
   "codemirror_mode": {
    "name": "ipython",
    "version": 3
   },
   "file_extension": ".py",
   "mimetype": "text/x-python",
   "name": "python",
   "nbconvert_exporter": "python",
   "pygments_lexer": "ipython3",
   "version": "3.9.1"
  }
 },
 "nbformat": 4,
 "nbformat_minor": 5
}
